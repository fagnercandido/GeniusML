{
 "cells": [
  {
   "cell_type": "code",
   "execution_count": 12,
   "id": "16fde80e-24a5-4639-ba48-9f781c93cc2e",
   "metadata": {},
   "outputs": [
    {
     "name": "stderr",
     "output_type": "stream",
     "text": [
      "[nltk_data] Downloading package punkt to\n",
      "[nltk_data]     /Users/fagnercandido/nltk_data...\n",
      "[nltk_data]   Package punkt is already up-to-date!\n"
     ]
    },
    {
     "data": {
      "text/plain": [
       "True"
      ]
     },
     "execution_count": 12,
     "metadata": {},
     "output_type": "execute_result"
    }
   ],
   "source": [
    "import requests\n",
    "from bs4 import BeautifulSoup\n",
    "from gensim.models import KeyedVectors\n",
    "import string\n",
    "import nltk\n",
    "import numpy as np\n",
    "import pandas as pd\n",
    "import spacy\n",
    "from gensim.models import Word2Vec\n",
    "\n",
    "nltk.download('punkt')"
   ]
  },
  {
   "cell_type": "code",
   "execution_count": 3,
   "id": "89e3ec3d-549b-4b19-9fc5-2fba797d8010",
   "metadata": {},
   "outputs": [],
   "source": [
    "ACCESS_TOKEN = ''"
   ]
  },
  {
   "cell_type": "code",
   "execution_count": 4,
   "id": "1b761377-9042-4ce9-afe7-e4984662c3d7",
   "metadata": {},
   "outputs": [],
   "source": [
    "class GeniusLM:\n",
    "  \n",
    "    def __init__(self, token):\n",
    "        self.token = token\n",
    "    \n",
    "    def search(self, value):\n",
    "        page_number = 1\n",
    "        songs = []\n",
    "        while True:\n",
    "            genius_search_url = f\"http://api.genius.com/search?q={value}&access_token={self.token}&page={page_number}\"\n",
    "            response = requests.get(genius_search_url)\n",
    "            hits = response.json()['response']['hits']\n",
    "            if hits:\n",
    "                for song in hits:\n",
    "                    songs.append(GeniusSongLM(song[\"result\"][\"id\"],\n",
    "                                              song[\"result\"][\"title\"],\n",
    "                                              song[\"result\"][\"url\"],\n",
    "                                              song[\"result\"][\"path\"],\n",
    "                                              song[\"result\"][\"header_image_url\"],\n",
    "                                              song[\"result\"][\"annotation_count\"],\n",
    "                                              song[\"result\"][\"pyongs_count\"],\n",
    "                                              song[\"result\"][\"primary_artist\"][\"id\"],\n",
    "                                              song[\"result\"][\"primary_artist\"][\"name\"],\n",
    "                                              song[\"result\"][\"primary_artist\"][\"url\"],\n",
    "                                              song[\"result\"][\"primary_artist\"][\"image_url\"]\n",
    "                                             ))\n",
    "                page_number = page_number + 1\n",
    "            else:\n",
    "                break\n",
    "        return songs\n",
    "    \n",
    "    def get_dataframe(self, songs):\n",
    "        return pd.DataFrame([s.__dict__ for s in songs])\n",
    "    \n",
    "class GeniusSongLM:\n",
    "  \n",
    "    def __init__(self, id_song, title, url, path, header_image_url, annotation_count, pyongs_count, primary_artist_id, primary_artits_name, primary_artits_url, primary_artits_imageurl):\n",
    "        self.id_song = id_song\n",
    "        self.title = title \n",
    "        self.url = url\n",
    "        self.path = path\n",
    "        self.song = self._get_song(self.path)\n",
    "        self.header_image_url = header_image_url,  \n",
    "        self.annotation_count = annotation_count \n",
    "        self.pyongs_count = pyongs_count\n",
    "        self.primary_artist_id = primary_artist_id \n",
    "        self.primary_artits_name = primary_artits_name\n",
    "        self.primary_artits_url = primary_artits_url\n",
    "        self.primary_artits_imageurl = primary_artits_imageurl\n",
    "        \n",
    "    def _get_song(self, path):\n",
    "        url = \"https://genius.com\" + path\n",
    "        response_song = requests.get(url)\n",
    "        html = BeautifulSoup(response_song.content, \"lxml\")\n",
    "        lyrics = html.select('div[class^=\"Lyrics__Container\"], .song_body-lyrics p')\n",
    "        song = ''\n",
    "        for div in lyrics:\n",
    "            song = song + ' '\n",
    "            song = song + div.text\n",
    "        return song"
   ]
  },
  {
   "cell_type": "code",
   "execution_count": 5,
   "id": "2ac91879-855e-4e5a-a5e9-4a50c924c105",
   "metadata": {},
   "outputs": [
    {
     "data": {
      "text/html": [
       "<div>\n",
       "<style scoped>\n",
       "    .dataframe tbody tr th:only-of-type {\n",
       "        vertical-align: middle;\n",
       "    }\n",
       "\n",
       "    .dataframe tbody tr th {\n",
       "        vertical-align: top;\n",
       "    }\n",
       "\n",
       "    .dataframe thead th {\n",
       "        text-align: right;\n",
       "    }\n",
       "</style>\n",
       "<table border=\"1\" class=\"dataframe\">\n",
       "  <thead>\n",
       "    <tr style=\"text-align: right;\">\n",
       "      <th></th>\n",
       "      <th>id_song</th>\n",
       "      <th>title</th>\n",
       "      <th>url</th>\n",
       "      <th>path</th>\n",
       "      <th>song</th>\n",
       "      <th>header_image_url</th>\n",
       "      <th>annotation_count</th>\n",
       "      <th>pyongs_count</th>\n",
       "      <th>primary_artist_id</th>\n",
       "      <th>primary_artits_name</th>\n",
       "      <th>primary_artits_url</th>\n",
       "      <th>primary_artits_imageurl</th>\n",
       "    </tr>\n",
       "  </thead>\n",
       "  <tbody>\n",
       "    <tr>\n",
       "      <th>0</th>\n",
       "      <td>3773805</td>\n",
       "      <td>Nova Lisboa</td>\n",
       "      <td>https://genius.com/Dino-dsantiago-nova-lisboa-...</td>\n",
       "      <td>/Dino-dsantiago-nova-lisboa-lyrics</td>\n",
       "      <td>[Letra de \"Nova Lisboa\"][Verso 1]Qual é a ide...</td>\n",
       "      <td>(https://images.genius.com/b0a6a41bf9b22cc5d9a...</td>\n",
       "      <td>0</td>\n",
       "      <td>1.0</td>\n",
       "      <td>557991</td>\n",
       "      <td>Dino d’Santiago</td>\n",
       "      <td>https://genius.com/artists/Dino-dsantiago</td>\n",
       "      <td>https://images.genius.com/f01fa4552a486d751c5b...</td>\n",
       "    </tr>\n",
       "    <tr>\n",
       "      <th>1</th>\n",
       "      <td>2933019</td>\n",
       "      <td>Gangs de Lisboa</td>\n",
       "      <td>https://genius.com/Allen-halloween-gangs-de-li...</td>\n",
       "      <td>/Allen-halloween-gangs-de-lisboa-lyrics</td>\n",
       "      <td>[Letra de \"Gangs de Lisboa\"][Intro: Allen Hal...</td>\n",
       "      <td>(https://images.genius.com/5a95662724890e4c44b...</td>\n",
       "      <td>0</td>\n",
       "      <td>1.0</td>\n",
       "      <td>60345</td>\n",
       "      <td>Allen Halloween</td>\n",
       "      <td>https://genius.com/artists/Allen-halloween</td>\n",
       "      <td>https://images.genius.com/9510db21b25d06ba906e...</td>\n",
       "    </tr>\n",
       "    <tr>\n",
       "      <th>2</th>\n",
       "      <td>860391</td>\n",
       "      <td>Cheira a Lisboa</td>\n",
       "      <td>https://genius.com/Amalia-rodrigues-cheira-a-l...</td>\n",
       "      <td>/Amalia-rodrigues-cheira-a-lisboa-lyrics</td>\n",
       "      <td>[Letra de \"Cheira a Lisboa\"][Estrofe 1]Lisboa...</td>\n",
       "      <td>(https://images.genius.com/b1548fb744592253e95...</td>\n",
       "      <td>1</td>\n",
       "      <td>NaN</td>\n",
       "      <td>42271</td>\n",
       "      <td>Amália Rodrigues</td>\n",
       "      <td>https://genius.com/artists/Amalia-rodrigues</td>\n",
       "      <td>https://images.genius.com/4bc43282ff18dcf594fd...</td>\n",
       "    </tr>\n",
       "    <tr>\n",
       "      <th>3</th>\n",
       "      <td>6329407</td>\n",
       "      <td>Lisboa</td>\n",
       "      <td>https://genius.com/Anavitoria-and-lenine-lisbo...</td>\n",
       "      <td>/Anavitoria-and-lenine-lisboa-lyrics</td>\n",
       "      <td>[Letra de \"Lisboa\" com ANAVITÓRIA feat. Lenin...</td>\n",
       "      <td>(https://images.genius.com/3d8b71c9df94554426f...</td>\n",
       "      <td>0</td>\n",
       "      <td>1.0</td>\n",
       "      <td>2545970</td>\n",
       "      <td>Anavitória &amp; Lenine</td>\n",
       "      <td>https://genius.com/artists/Anavitoria-and-lenine</td>\n",
       "      <td>https://assets.genius.com/images/default_avata...</td>\n",
       "    </tr>\n",
       "    <tr>\n",
       "      <th>4</th>\n",
       "      <td>6855047</td>\n",
       "      <td>Lisboa-Madrid</td>\n",
       "      <td>https://genius.com/Anavitoria-and-jorge-drexle...</td>\n",
       "      <td>/Anavitoria-and-jorge-drexler-lisboa-madrid-ly...</td>\n",
       "      <td>[Letra de \"Lisboa-Madrid\" com Anavitória &amp; Jo...</td>\n",
       "      <td>(https://images.genius.com/ec90c545be281bd891b...</td>\n",
       "      <td>0</td>\n",
       "      <td>NaN</td>\n",
       "      <td>2751573</td>\n",
       "      <td>Anavitória &amp; Jorge Drexler</td>\n",
       "      <td>https://genius.com/artists/Anavitoria-and-jorg...</td>\n",
       "      <td>https://assets.genius.com/images/default_avata...</td>\n",
       "    </tr>\n",
       "  </tbody>\n",
       "</table>\n",
       "</div>"
      ],
      "text/plain": [
       "   id_song            title  \\\n",
       "0  3773805      Nova Lisboa   \n",
       "1  2933019  Gangs de Lisboa   \n",
       "2   860391  Cheira a Lisboa   \n",
       "3  6329407           Lisboa   \n",
       "4  6855047    Lisboa-Madrid   \n",
       "\n",
       "                                                 url  \\\n",
       "0  https://genius.com/Dino-dsantiago-nova-lisboa-...   \n",
       "1  https://genius.com/Allen-halloween-gangs-de-li...   \n",
       "2  https://genius.com/Amalia-rodrigues-cheira-a-l...   \n",
       "3  https://genius.com/Anavitoria-and-lenine-lisbo...   \n",
       "4  https://genius.com/Anavitoria-and-jorge-drexle...   \n",
       "\n",
       "                                                path  \\\n",
       "0                 /Dino-dsantiago-nova-lisboa-lyrics   \n",
       "1            /Allen-halloween-gangs-de-lisboa-lyrics   \n",
       "2           /Amalia-rodrigues-cheira-a-lisboa-lyrics   \n",
       "3               /Anavitoria-and-lenine-lisboa-lyrics   \n",
       "4  /Anavitoria-and-jorge-drexler-lisboa-madrid-ly...   \n",
       "\n",
       "                                                song  \\\n",
       "0   [Letra de \"Nova Lisboa\"][Verso 1]Qual é a ide...   \n",
       "1   [Letra de \"Gangs de Lisboa\"][Intro: Allen Hal...   \n",
       "2   [Letra de \"Cheira a Lisboa\"][Estrofe 1]Lisboa...   \n",
       "3   [Letra de \"Lisboa\" com ANAVITÓRIA feat. Lenin...   \n",
       "4   [Letra de \"Lisboa-Madrid\" com Anavitória & Jo...   \n",
       "\n",
       "                                    header_image_url  annotation_count  \\\n",
       "0  (https://images.genius.com/b0a6a41bf9b22cc5d9a...                 0   \n",
       "1  (https://images.genius.com/5a95662724890e4c44b...                 0   \n",
       "2  (https://images.genius.com/b1548fb744592253e95...                 1   \n",
       "3  (https://images.genius.com/3d8b71c9df94554426f...                 0   \n",
       "4  (https://images.genius.com/ec90c545be281bd891b...                 0   \n",
       "\n",
       "   pyongs_count  primary_artist_id         primary_artits_name  \\\n",
       "0           1.0             557991             Dino d’Santiago   \n",
       "1           1.0              60345             Allen Halloween   \n",
       "2           NaN              42271            Amália Rodrigues   \n",
       "3           1.0            2545970         Anavitória & Lenine   \n",
       "4           NaN            2751573  Anavitória & Jorge Drexler   \n",
       "\n",
       "                                  primary_artits_url  \\\n",
       "0          https://genius.com/artists/Dino-dsantiago   \n",
       "1         https://genius.com/artists/Allen-halloween   \n",
       "2        https://genius.com/artists/Amalia-rodrigues   \n",
       "3   https://genius.com/artists/Anavitoria-and-lenine   \n",
       "4  https://genius.com/artists/Anavitoria-and-jorg...   \n",
       "\n",
       "                             primary_artits_imageurl  \n",
       "0  https://images.genius.com/f01fa4552a486d751c5b...  \n",
       "1  https://images.genius.com/9510db21b25d06ba906e...  \n",
       "2  https://images.genius.com/4bc43282ff18dcf594fd...  \n",
       "3  https://assets.genius.com/images/default_avata...  \n",
       "4  https://assets.genius.com/images/default_avata...  "
      ]
     },
     "execution_count": 5,
     "metadata": {},
     "output_type": "execute_result"
    }
   ],
   "source": [
    "genius = GeniusLM(ACCESS_TOKEN)\n",
    "songs = genius.search('lisboa')\n",
    "dataframe = genius.get_dataframe(songs)\n",
    "dataframe.head()"
   ]
  },
  {
   "cell_type": "markdown",
   "id": "0975bd28-2275-4e03-8286-5ae370b6bb85",
   "metadata": {},
   "source": [
    "# Usando NILC - Necessário baixar os ficheiros do Nilc"
   ]
  },
  {
   "cell_type": "code",
   "execution_count": 24,
   "id": "7ca7aa7e-08ef-4e54-aceb-bc92a0323e32",
   "metadata": {},
   "outputs": [],
   "source": [
    "modelo_cbow = KeyedVectors.load_word2vec_format('../nilc/skip_s600.txt')"
   ]
  },
  {
   "cell_type": "code",
   "execution_count": 26,
   "id": "55616536-f9f3-4261-95ad-1ba7a9e8e12c",
   "metadata": {},
   "outputs": [
    {
     "data": {
      "text/plain": [
       "[('edguy', 0.7086107730865479),\n",
       " ('kreator', 0.6777551770210266),\n",
       " ('dragonforce', 0.6724679470062256),\n",
       " ('megadeth', 0.6625873446464539),\n",
       " ('kamelot', 0.6624094247817993),\n",
       " ('hammerfall', 0.6619649529457092),\n",
       " ('stratovarius', 0.6612575054168701),\n",
       " ('manowar', 0.6603450775146484),\n",
       " ('sodom', 0.6576219797134399),\n",
       " ('obituary', 0.6565178632736206)]"
      ]
     },
     "execution_count": 26,
     "metadata": {},
     "output_type": "execute_result"
    }
   ],
   "source": [
    "modelo_cbow.most_similar('helloween')"
   ]
  },
  {
   "cell_type": "markdown",
   "id": "4bfc0234-f752-420e-9173-3e4e70938575",
   "metadata": {},
   "source": [
    "## Usando Spacy - Word2Vec"
   ]
  },
  {
   "cell_type": "code",
   "execution_count": 8,
   "id": "b58f58fb-855b-43a1-996c-4cf8590b3a5d",
   "metadata": {},
   "outputs": [
    {
     "data": {
      "text/plain": [
       "<generator object <genexpr> at 0x7fb36ad28580>"
      ]
     },
     "execution_count": 8,
     "metadata": {},
     "output_type": "execute_result"
    }
   ],
   "source": [
    "nlp = spacy.load('pt_core_news_sm', disable=['paser', 'ner', 'tagger', 'textcat'])\n",
    "\n",
    "def tokenizar(texto):\n",
    "    doc = nlp(texto)\n",
    "    tokens = []\n",
    "    for token in doc:\n",
    "        if not token.is_stop and token.is_alpha:\n",
    "            tokens.append(token.text.lower())\n",
    "    return tokens\n",
    "\n",
    "def juntar_vetores_por_soma(palavras, modelo):\n",
    "    vetor_final = np.zeros((1,600))\n",
    "    \n",
    "    for palavra in palavras:\n",
    "        try:\n",
    "            vetor_final += modelo.get_vector(palavra)\n",
    "        except KeyError:\n",
    "            pass\n",
    "    return vetor_final\n",
    "\n",
    "musicas_para_tratamento = (musica.lower() for musica in dataframe['song'])"
   ]
  },
  {
   "cell_type": "code",
   "execution_count": 9,
   "id": "49d306cb-c052-44ea-8219-51ec35b62b4e",
   "metadata": {},
   "outputs": [
    {
     "data": {
      "text/html": [
       "<div>\n",
       "<style scoped>\n",
       "    .dataframe tbody tr th:only-of-type {\n",
       "        vertical-align: middle;\n",
       "    }\n",
       "\n",
       "    .dataframe tbody tr th {\n",
       "        vertical-align: top;\n",
       "    }\n",
       "\n",
       "    .dataframe thead th {\n",
       "        text-align: right;\n",
       "    }\n",
       "</style>\n",
       "<table border=\"1\" class=\"dataframe\">\n",
       "  <thead>\n",
       "    <tr style=\"text-align: right;\">\n",
       "      <th></th>\n",
       "      <th>musicas</th>\n",
       "    </tr>\n",
       "  </thead>\n",
       "  <tbody>\n",
       "    <tr>\n",
       "      <th>0</th>\n",
       "      <td>[letra, ouves, cidade, chamar, zona, yeah, yea...</td>\n",
       "    </tr>\n",
       "    <tr>\n",
       "      <th>1</th>\n",
       "      <td>[letra, gangs, allen, fla, flafla, fla, allen,...</td>\n",
       "    </tr>\n",
       "    <tr>\n",
       "      <th>2</th>\n",
       "      <td>[letra, cheira, sol, cheira, luaquando, nasce,...</td>\n",
       "    </tr>\n",
       "    <tr>\n",
       "      <th>3</th>\n",
       "      <td>[letra, lisboa, anavitória, feat, ana, anavitó...</td>\n",
       "    </tr>\n",
       "    <tr>\n",
       "      <th>4</th>\n",
       "      <td>[letra, anavitória, jorge, ana, cuarto, fuera,...</td>\n",
       "    </tr>\n",
       "  </tbody>\n",
       "</table>\n",
       "</div>"
      ],
      "text/plain": [
       "                                             musicas\n",
       "0  [letra, ouves, cidade, chamar, zona, yeah, yea...\n",
       "1  [letra, gangs, allen, fla, flafla, fla, allen,...\n",
       "2  [letra, cheira, sol, cheira, luaquando, nasce,...\n",
       "3  [letra, lisboa, anavitória, feat, ana, anavitó...\n",
       "4  [letra, anavitória, jorge, ana, cuarto, fuera,..."
      ]
     },
     "execution_count": 9,
     "metadata": {},
     "output_type": "execute_result"
    }
   ],
   "source": [
    "musicas_tratadas = [tokenizar(doc) for doc in nlp.pipe(musicas_para_tratamento, batch_size=1000, n_process=-1)]\n",
    "dataframe_musicas_tratadas = pd.DataFrame({\"musicas\": musicas_tratadas})\n",
    "dataframe_musicas_tratadas.head()"
   ]
  },
  {
   "cell_type": "code",
   "execution_count": 15,
   "id": "9c883ea8-0d31-44c8-92a3-e4badfd3f00d",
   "metadata": {},
   "outputs": [
    {
     "data": {
      "text/plain": [
       "(183282, 489300)"
      ]
     },
     "execution_count": 15,
     "metadata": {},
     "output_type": "execute_result"
    }
   ],
   "source": [
    "lista_de_lista_de_tokens = [musica for musica in dataframe_musicas_tratadas.musicas]\n",
    "\n",
    "modelo_skipgram = Word2Vec(sg = 1,\n",
    "                      window = 5,\n",
    "                      min_count = 5,\n",
    "                      alpha = 0.03,\n",
    "                      min_alpha = 0.007)\n",
    "modelo_skipgram.build_vocab(lista_de_lista_de_tokens, progress_per=5000)\n",
    "\n",
    "modelo_skipgram.train(lista_de_lista_de_tokens, \n",
    "                     total_examples=modelo_skipgram.corpus_count,\n",
    "                     epochs = 30)"
   ]
  },
  {
   "cell_type": "code",
   "execution_count": 17,
   "id": "5523bd6f-f18d-4d22-97a8-f5e7bea5e89b",
   "metadata": {},
   "outputs": [
    {
     "data": {
      "text/plain": [
       "[('saia', 0.7528668642044067),\n",
       " ('ribeira', 0.7268251180648804),\n",
       " ('castelo', 0.7244497537612915),\n",
       " ('azul', 0.6898596882820129),\n",
       " ('velhinho', 0.6710348129272461),\n",
       " ('lisboaque', 0.6557831168174744),\n",
       " ('marcada', 0.6522175073623657),\n",
       " ('velha', 0.6360473036766052),\n",
       " ('graça', 0.6327192783355713),\n",
       " ('terreiro', 0.6254547238349915)]"
      ]
     },
     "execution_count": 17,
     "metadata": {},
     "output_type": "execute_result"
    }
   ],
   "source": [
    "modelo_skipgram.wv.most_similar('alfama')"
   ]
  },
  {
   "cell_type": "code",
   "execution_count": null,
   "id": "57abf4f6-aef3-4727-baf7-df6b2accafac",
   "metadata": {},
   "outputs": [],
   "source": []
  }
 ],
 "metadata": {
  "kernelspec": {
   "display_name": "Python 3 (ipykernel)",
   "language": "python",
   "name": "python3"
  },
  "language_info": {
   "codemirror_mode": {
    "name": "ipython",
    "version": 3
   },
   "file_extension": ".py",
   "mimetype": "text/x-python",
   "name": "python",
   "nbconvert_exporter": "python",
   "pygments_lexer": "ipython3",
   "version": "3.9.7"
  }
 },
 "nbformat": 4,
 "nbformat_minor": 5
}
